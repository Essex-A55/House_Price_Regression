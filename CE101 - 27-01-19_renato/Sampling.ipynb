{
 "cells": [
  {
   "cell_type": "code",
   "execution_count": 1,
   "metadata": {},
   "outputs": [
    {
     "name": "stderr",
     "output_type": "stream",
     "text": [
      "C:\\Users\\rpast\\Anaconda3\\lib\\site-packages\\sklearn\\ensemble\\weight_boosting.py:29: DeprecationWarning: numpy.core.umath_tests is an internal NumPy module and should not be imported. It will be removed in a future NumPy release.\n",
      "  from numpy.core.umath_tests import inner1d\n"
     ]
    }
   ],
   "source": [
    "import pandas as pd ##Data handeler\n",
    "import numpy as np ##Maths functions\n",
    "import seaborn as sns ##Graphing\n",
    "import matplotlib ##Graphing\n",
    "import matplotlib.pyplot as plt\n",
    "\n",
    "\n",
    "from scipy.stats import skew\n",
    "from scipy.stats.stats import pearsonr\n",
    "\n",
    "from sklearn.model_selection import train_test_split\n",
    "from sklearn.linear_model import LinearRegression, Ridge, LassoCV, LassoLarsCV, ElasticNet\n",
    "from sklearn.model_selection import cross_val_score\n",
    "\n",
    "#Not being used in this version of the regression algorithm\n",
    "from sklearn.metrics import mean_squared_error, r2_score, explained_variance_score\n",
    "from sklearn.ensemble import VotingClassifier, BaggingRegressor, RandomForestRegressor, AdaBoostRegressor, GradientBoostingRegressor\n",
    "from sklearn import tree\n",
    "\n",
    "\n",
    "##ignore depreciation error - specific module not being used##"
   ]
  },
  {
   "cell_type": "markdown",
   "metadata": {},
   "source": [
    "# Import Data Set"
   ]
  },
  {
   "cell_type": "code",
   "execution_count": 2,
   "metadata": {},
   "outputs": [],
   "source": [
    "train = pd.read_csv(\"train.csv\")\n",
    "test = pd.read_csv(\"test.csv\")"
   ]
  },
  {
   "cell_type": "markdown",
   "metadata": {},
   "source": [
    "# Select Columns (remove sale price)"
   ]
  },
  {
   "cell_type": "code",
   "execution_count": 3,
   "metadata": {},
   "outputs": [],
   "source": [
    "data = pd.concat((train.loc[:,'MSSubClass':'SaleCondition'], test.loc[:,'MSSubClass':'SaleCondition']))"
   ]
  },
  {
   "cell_type": "markdown",
   "metadata": {},
   "source": [
    "# Take Log of Sale Price"
   ]
  },
  {
   "cell_type": "code",
   "execution_count": 4,
   "metadata": {},
   "outputs": [],
   "source": [
    "train[\"SalePrice\"] = np.log1p(train[\"SalePrice\"])\n",
    "#This is currently commented out until it can be unloged\n"
   ]
  },
  {
   "cell_type": "markdown",
   "metadata": {},
   "source": [
    "# Create Variable Containing Columns"
   ]
  },
  {
   "cell_type": "code",
   "execution_count": 5,
   "metadata": {},
   "outputs": [],
   "source": [
    "columns = data.dtypes[data.dtypes != \"object\"].index"
   ]
  },
  {
   "cell_type": "markdown",
   "metadata": {},
   "source": [
    "# Removes feilds with no data"
   ]
  },
  {
   "cell_type": "code",
   "execution_count": 6,
   "metadata": {},
   "outputs": [],
   "source": [
    "skewed = train[columns].apply(lambda y: skew(y.dropna()))"
   ]
  },
  {
   "cell_type": "code",
   "execution_count": 7,
   "metadata": {},
   "outputs": [
    {
     "name": "stderr",
     "output_type": "stream",
     "text": [
      "C:\\Users\\rpast\\Anaconda3\\lib\\site-packages\\ipykernel_launcher.py:2: RuntimeWarning: invalid value encountered in log1p\n",
      "  \n"
     ]
    }
   ],
   "source": [
    "skewed = skewed.index\n",
    "data[skewed] = np.log1p(data[skewed])\n",
    "#Ignore this error - this will be fixed in a future version"
   ]
  },
  {
   "cell_type": "markdown",
   "metadata": {},
   "source": [
    "# Fill Blank Fields with Mean"
   ]
  },
  {
   "cell_type": "code",
   "execution_count": 8,
   "metadata": {},
   "outputs": [],
   "source": [
    "data = (pd.get_dummies(data)).fillna(data.mean())"
   ]
  },
  {
   "cell_type": "markdown",
   "metadata": {},
   "source": [
    "# Put Sampled data into appropriate varaibles"
   ]
  },
  {
   "cell_type": "code",
   "execution_count": 9,
   "metadata": {},
   "outputs": [
    {
     "name": "stdout",
     "output_type": "stream",
     "text": [
      "0       12.247699\n",
      "1       12.109016\n",
      "2       12.317171\n",
      "3       11.849405\n",
      "4       12.429220\n",
      "5       11.870607\n",
      "6       12.634606\n",
      "7       12.206078\n",
      "8       11.774528\n",
      "9       11.678448\n",
      "10      11.771444\n",
      "11      12.751303\n",
      "12      11.877576\n",
      "13      12.540761\n",
      "14      11.964007\n",
      "15      11.790565\n",
      "16      11.911708\n",
      "17      11.407576\n",
      "18      11.976666\n",
      "19      11.842236\n",
      "20      12.692506\n",
      "21      11.845110\n",
      "22      12.345839\n",
      "23      11.774528\n",
      "24      11.944714\n",
      "25      12.454108\n",
      "26      11.811555\n",
      "27      12.631344\n",
      "28      12.242891\n",
      "29      11.134604\n",
      "          ...    \n",
      "1430    12.165985\n",
      "1431    11.875838\n",
      "1432    11.074436\n",
      "1433    12.136192\n",
      "1434    11.982935\n",
      "1435    12.066816\n",
      "1436    11.699413\n",
      "1437    12.885673\n",
      "1438    11.916395\n",
      "1439    12.190964\n",
      "1440    12.160034\n",
      "1441    11.913720\n",
      "1442    12.644331\n",
      "1443    11.703554\n",
      "1444    12.098493\n",
      "1445    11.767575\n",
      "1446    11.969724\n",
      "1447    12.388398\n",
      "1448    11.626263\n",
      "1449    11.429555\n",
      "1450    11.820418\n",
      "1451    12.567555\n",
      "1452    11.884496\n",
      "1453    11.344519\n",
      "1454    12.128117\n",
      "1455    12.072547\n",
      "1456    12.254868\n",
      "1457    12.493133\n",
      "1458    11.864469\n",
      "1459    11.901590\n",
      "Name: SalePrice, Length: 1460, dtype: float64\n"
     ]
    }
   ],
   "source": [
    "X_train = data[:train.shape[0]]\n",
    "X_test = data[train.shape[0]:]\n",
    "y = train[\"SalePrice\"]\n",
    "print(y)"
   ]
  },
  {
   "cell_type": "markdown",
   "metadata": {},
   "source": [
    "# Root mean square function\n"
   ]
  },
  {
   "cell_type": "code",
   "execution_count": 10,
   "metadata": {},
   "outputs": [],
   "source": [
    "def rmse_cv(model):\n",
    "    rmse= np.sqrt(-cross_val_score(model, X_train, y, scoring=\"neg_mean_squared_error\", cv = 5))\n",
    "    return(rmse)"
   ]
  },
  {
   "cell_type": "markdown",
   "metadata": {},
   "source": [
    "# Ridge reggression?"
   ]
  },
  {
   "cell_type": "code",
   "execution_count": 11,
   "metadata": {},
   "outputs": [],
   "source": [
    "model_ridge = Ridge()\n",
    "alphas = [0.05, 0.1, 0.3, 1, 3, 5, 10, 15, 30, 50, 75]\n",
    "cv_ridge = [rmse_cv(Ridge(alpha = alpha)).mean() \n",
    "            for alpha in alphas]"
   ]
  },
  {
   "cell_type": "code",
   "execution_count": 12,
   "metadata": {
    "scrolled": true
   },
   "outputs": [
    {
     "data": {
      "text/plain": [
       "Text(0,0.5,'rmse')"
      ]
     },
     "execution_count": 12,
     "metadata": {},
     "output_type": "execute_result"
    },
    {
     "data": {
      "image/png": "[encoded data removed]",
      "text/plain": [
       "<Figure size 432x288 with 1 Axes>"
      ]
     },
     "metadata": {
      "needs_background": "light"
     },
     "output_type": "display_data"
    }
   ],
   "source": [
    "cv_ridge = pd.Series(cv_ridge, index = alphas)\n",
    "cv_ridge.plot(title = \"Validation - Just Do It\")\n",
    "plt.xlabel(\"alpha\")\n",
    "plt.ylabel(\"rmse\")\n",
    "\n",
    "#rmse --> Root mean squared error"
   ]
  },
  {
   "cell_type": "code",
   "execution_count": 13,
   "metadata": {},
   "outputs": [
    {
     "data": {
      "text/plain": [
       "0.12926246566508087"
      ]
     },
     "execution_count": 13,
     "metadata": {},
     "output_type": "execute_result"
    }
   ],
   "source": [
    "cv_ridge.min()"
   ]
  },
  {
   "cell_type": "markdown",
   "metadata": {},
   "source": [
    "# Lasso model?"
   ]
  },
  {
   "cell_type": "code",
   "execution_count": 14,
   "metadata": {},
   "outputs": [],
   "source": [
    "model_lasso = LassoCV(alphas = [1, 0.1, 0.001, 0.0005]).fit(X_train, y)"
   ]
  },
  {
   "cell_type": "code",
   "execution_count": 15,
   "metadata": {},
   "outputs": [
    {
     "data": {
      "text/plain": [
       "0.12449130123052536"
      ]
     },
     "execution_count": 15,
     "metadata": {},
     "output_type": "execute_result"
    }
   ],
   "source": [
    "rmse_cv(model_lasso).mean()"
   ]
  },
  {
   "cell_type": "code",
   "execution_count": 16,
   "metadata": {
    "scrolled": true
   },
   "outputs": [
    {
     "name": "stdout",
     "output_type": "stream",
     "text": [
      "Lasso picked 110 variables and eliminated the other 178 variables\n"
     ]
    }
   ],
   "source": [
    "coef = pd.Series(model_lasso.coef_, index = X_train.columns)\n",
    "print(\"Lasso picked \" + str(sum(coef != 0)) + \" variables and eliminated the other \" +  str(sum(coef == 0)) + \" variables\")"
   ]
  },
  {
   "cell_type": "code",
   "execution_count": 17,
   "metadata": {},
   "outputs": [],
   "source": [
    "imp_coef = pd.concat([coef.sort_values().head(10),\n",
    "                     coef.sort_values().tail(10)])"
   ]
  },
  {
   "cell_type": "code",
   "execution_count": 18,
   "metadata": {
    "scrolled": true
   },
   "outputs": [
    {
     "data": {
      "text/plain": [
       "Text(0.5,1,'Coefficients in the Lasso Model')"
      ]
     },
     "execution_count": 18,
     "metadata": {},
     "output_type": "execute_result"
    },
    {
     "data": {
      "image/png": "[encoded data removed]",
      "text/plain": [
       "<Figure size 576x720 with 1 Axes>"
      ]
     },
     "metadata": {
      "needs_background": "light"
     },
     "output_type": "display_data"
    }
   ],
   "source": [
    "matplotlib.rcParams['figure.figsize'] = (8.0, 10.0)\n",
    "imp_coef.plot(kind = \"barh\")\n",
    "plt.title(\"Coefficients in the Lasso Model\")"
   ]
  },
  {
   "cell_type": "markdown",
   "metadata": {},
   "source": [
    "# Linear Regression Algorithm"
   ]
  },
  {
   "cell_type": "code",
   "execution_count": 19,
   "metadata": {},
   "outputs": [
    {
     "data": {
      "text/plain": [
       "0.9464089328204002"
      ]
     },
     "execution_count": 19,
     "metadata": {},
     "output_type": "execute_result"
    }
   ],
   "source": [
    "linearRegression = LinearRegression()\n",
    "linearRegression.fit(X_train, y)\n",
    "linearRegression.score(X_train, y)\n",
    "\n",
    "\n",
    "#Would be good to graph this data"
   ]
  },
  {
   "cell_type": "code",
   "execution_count": 21,
   "metadata": {},
   "outputs": [
    {
     "name": "stdout",
     "output_type": "stream",
     "text": [
      "[11.69598823 12.02564639 12.15318491 ... 12.09839049 11.7132942\n",
      " 12.28544294]\n"
     ]
    }
   ],
   "source": [
    "prediction_linearRegression = linearRegression.predict(X_test)\n",
    "print(prediction_linearRegression)\n"
   ]
  },
  {
   "cell_type": "code",
   "execution_count": 32,
   "metadata": {},
   "outputs": [
    {
     "name": "stdout",
     "output_type": "stream",
     "text": [
      "              lasso\n",
      "0     117747.647282\n",
      "1     157402.048523\n",
      "2     181689.519656\n",
      "3     196401.369291\n",
      "4     202555.271552\n",
      "5     170257.199540\n",
      "6     175710.459473\n",
      "7     158365.425159\n",
      "8     199005.125722\n",
      "9     120063.580952\n",
      "10    184183.097714\n",
      "11     98503.215086\n",
      "12     95536.820802\n",
      "13    144678.737269\n",
      "14    107637.806417\n",
      "15    353470.880435\n",
      "16    242413.670269\n",
      "17    300022.390811\n",
      "18    302874.282655\n",
      "19    473529.099756\n",
      "20    327178.655296\n",
      "21    214526.942948\n",
      "22    183480.368996\n",
      "23    161021.112997\n",
      "24    196842.612361\n",
      "25    197483.613404\n",
      "26    339834.889623\n",
      "27    235709.822646\n",
      "28    192734.943213\n",
      "29    250098.075565\n",
      "...             ...\n",
      "1429   82231.792220\n",
      "1430  137629.017495\n",
      "1431   40407.213199\n",
      "1432   70503.869718\n",
      "1433   55062.504142\n",
      "1434  336464.667900\n",
      "1435  270597.318874\n",
      "1436  221245.831033\n",
      "1437  152328.619388\n",
      "1438  211621.674637\n",
      "1439  157047.771335\n",
      "1440  223078.832834\n",
      "1441  188614.880868\n",
      "1442  319588.675371\n",
      "1443  335350.411368\n",
      "1444   75642.177620\n",
      "1445  187617.266650\n",
      "1446  117075.217171\n",
      "1447  127970.597928\n",
      "1448  158122.999312\n",
      "1449   76408.699614\n",
      "1450   82236.288091\n",
      "1451  151273.596977\n",
      "1452   83543.497122\n",
      "1453   80155.936605\n",
      "1454   86814.258169\n",
      "1455   84690.807331\n",
      "1456  168307.587581\n",
      "1457  114134.062046\n",
      "1458  218206.478894\n",
      "\n",
      "[1459 rows x 1 columns]\n"
     ]
    }
   ],
   "source": [
    "\n",
    "lasso_preds = np.expm1(model_lasso.predict(X_test))\n",
    "predictions = pd.DataFrame({\"lasso\":lasso_preds})\n",
    "print(predictions)\n"
   ]
  },
  {
   "cell_type": "markdown",
   "metadata": {},
   "source": [
    "# Create Submission File "
   ]
  },
  {
   "cell_type": "code",
   "execution_count": 31,
   "metadata": {
    "scrolled": true
   },
   "outputs": [],
   "source": [
    "submission = pd.DataFrame({'ID': test.Id, 'SalePrice': preds})\n",
    "submission.to_csv('submission.csv', index=False)\n"
   ]
  },
  {
   "cell_type": "code",
   "execution_count": null,
   "metadata": {},
   "outputs": [],
   "source": []
  },
  {
   "cell_type": "code",
   "execution_count": null,
   "metadata": {},
   "outputs": [],
   "source": []
  }
 ],
 "metadata": {
  "kernelspec": {
   "display_name": "Python 3",
   "language": "python",
   "name": "python3"
  },
  "language_info": {
   "codemirror_mode": {
    "name": "ipython",
    "version": 3
   },
   "file_extension": ".py",
   "mimetype": "text/x-python",
   "name": "python",
   "nbconvert_exporter": "python",
   "pygments_lexer": "ipython3",
   "version": "3.7.0"
  }
 },
 "nbformat": 4,
 "nbformat_minor": 2
}
